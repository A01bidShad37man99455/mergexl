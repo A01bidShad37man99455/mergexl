{
 "cells": [
  {
   "cell_type": "code",
   "execution_count": null,
   "id": "bfe38c22-52c8-4dde-873d-b0b6c01b05be",
   "metadata": {},
   "outputs": [],
   "source": [
    "# https://github.com/A01bidShad37man99455\n",
    "#The repository contains a fundamental code for integrating \n",
    "#various columns from multiple excel files into a single file.\n",
    "import os\n",
    "import openpyxl\n",
    "from openpyxl import Workbook, load_workbook\n",
    "import string\n",
    "a1 = Workbook()  # New workbook\n",
    "b1 = a1.active\n",
    "cnt = 0 # count\n",
    "source_path = r'C:\\Users\\UseR\\Source\\\\' # Collect all the files into the same directory\n",
    "column_spacing = 1 # If you do not need column spacing add zero\n",
    "destination_path= r'C:\\Users\\UseR\\Source1\\\\'\n",
    "for file in os.listdir(source_path):\n",
    "    if file.endswith(\".xlsx\"):\n",
    "        print(f\"Evaluating {file}...\")\n",
    "        a = load_workbook(source_path + file) # If your file contains many sheets, you can implement a loop at this stage. \n",
    "        b = a.worksheets[0] #sheet number, initiate a new loop if you want to merge different sheets\n",
    "        maxr = b.max_row\n",
    "        maxc = b.max_column\n",
    "        for ii in range(1, maxr + 1):\n",
    "             for jj in range(1, maxc + 1):\n",
    "                read = b.cell(row=ii, column=jj) # Reading data from the specified source path.\n",
    "                b1.cell(row=ii, column=cnt + jj + (cnt * column_spacing)).value = read.value # Writing data\n",
    "        cnt += 1\n",
    "a1.save(destination_path + \"newfilename.xlsx\") #Save the new workbook"
   ]
  }
 ],
 "metadata": {
  "kernelspec": {
   "display_name": "Python 3 (ipykernel)",
   "language": "python",
   "name": "python3"
  },
  "language_info": {
   "codemirror_mode": {
    "name": "ipython",
    "version": 3
   },
   "file_extension": ".py",
   "mimetype": "text/x-python",
   "name": "python",
   "nbconvert_exporter": "python",
   "pygments_lexer": "ipython3",
   "version": "3.11.5"
  }
 },
 "nbformat": 4,
 "nbformat_minor": 5
}
